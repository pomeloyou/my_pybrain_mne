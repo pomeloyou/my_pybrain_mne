{
 "cells": [
  {
   "cell_type": "markdown",
   "metadata": {},
   "source": [
    "# 频率和时频传感器分析"
   ]
  },
  {
   "cell_type": "markdown",
   "metadata": {},
   "source": [
    "目标是展示如何探索你的数据（频率和时频）的谱内容。"
   ]
  },
  {
   "cell_type": "code",
   "execution_count": 1,
   "metadata": {},
   "outputs": [],
   "source": [
    "import pathlib\n",
    "import matplotlib\n",
    "\n",
    "import mne\n",
    "import mne_bids\n",
    "\n",
    "matplotlib.use('Qt5Agg')\n",
    "mne.set_log_level('WARNING')"
   ]
  },
  {
   "cell_type": "code",
   "execution_count": 3,
   "metadata": {},
   "outputs": [],
   "source": [
    "# 设置参数\n",
    "sample_data_dir = 'F:/Database/Multimodal_data/mne_data/MNE-sample-data/' # 设置已有数据路径\n",
    "sample_data_dir = pathlib.Path(sample_data_dir)\n",
    "epochs = mne.read_epochs(pathlib.Path(sample_data_dir / 'out_data') / 'epochs_epo.fif')"
   ]
  },
  {
   "cell_type": "code",
   "execution_count": 26,
   "metadata": {},
   "outputs": [
    {
     "data": {
      "text/html": [
       "<table class=\"table table-hover table-striped table-sm table-responsive small\">\n",
       "    <tr>\n",
       "        <th>Number of events</th>\n",
       "        <td>145</td>\n",
       "    </tr>\n",
       "    <tr>\n",
       "        <th>Events</th>\n",
       "        \n",
       "        <td>Auditory/Left: 72<br/>Auditory/Right: 73</td>\n",
       "        \n",
       "    </tr>\n",
       "    <tr>\n",
       "        <th>Time range</th>\n",
       "        <td>-0.300 – 0.499 s</td>\n",
       "    </tr>\n",
       "    <tr>\n",
       "        <th>Baseline</th>\n",
       "        <td>-0.300 – 0.000 s</td>\n",
       "    </tr>\n",
       "</table>"
      ],
      "text/plain": [
       "<EpochsFIF |  145 events (all good), -0.299693 – 0.499488 s, baseline -0.299693 – 0 s, ~200.5 MB, data loaded,\n",
       " 'Auditory/Left': 72\n",
       " 'Auditory/Right': 73>"
      ]
     },
     "execution_count": 26,
     "metadata": {},
     "output_type": "execute_result"
    }
   ],
   "source": [
    "epochs.apply_proj()\n",
    "epochs_auditory = epochs['Auditory']\n",
    "epochs_auditory"
   ]
  },
  {
   "cell_type": "markdown",
   "metadata": {},
   "source": [
    "## 频率分析\n",
    "首先来探索 epochs 的频率内容"
   ]
  },
  {
   "cell_type": "markdown",
   "metadata": {},
   "source": [
    "通过跨段平均查看所有通道类型"
   ]
  },
  {
   "cell_type": "code",
   "execution_count": 25,
   "metadata": {},
   "outputs": [
    {
     "data": {
      "text/plain": [
       "<MNELineFigure size 1000x850 with 3 Axes>"
      ]
     },
     "execution_count": 25,
     "metadata": {},
     "output_type": "execute_result"
    }
   ],
   "source": [
    "epochs_auditory.plot_psd(fmin=2., fmax=40., average=True, bandwidth=2)\n",
    "# 'bandwidth'参数控制着多维度的光谱分辨率。可以通过选择较窄的带宽来提高分辨率，但需要更长的计算时间。"
   ]
  },
  {
   "cell_type": "markdown",
   "metadata": {},
   "source": [
    "查看PSD的空间分布"
   ]
  },
  {
   "cell_type": "code",
   "execution_count": 11,
   "metadata": {},
   "outputs": [
    {
     "data": {
      "text/plain": [
       "<Figure size 2560x1311 with 10 Axes>"
      ]
     },
     "execution_count": 11,
     "metadata": {},
     "output_type": "execute_result"
    }
   ],
   "source": [
    "epochs_auditory.plot_psd_topomap(ch_type='eeg', normalize=False)"
   ]
  },
  {
   "cell_type": "code",
   "execution_count": 12,
   "metadata": {},
   "outputs": [
    {
     "data": {
      "text/plain": [
       "<Figure size 2560x1311 with 10 Axes>"
      ]
     },
     "execution_count": 12,
     "metadata": {},
     "output_type": "execute_result"
    }
   ],
   "source": [
    "epochs_auditory.plot_psd_topomap(ch_type='mag', normalize=False)"
   ]
  },
  {
   "cell_type": "code",
   "execution_count": 13,
   "metadata": {},
   "outputs": [
    {
     "data": {
      "text/plain": [
       "<Figure size 2560x1311 with 10 Axes>"
      ]
     },
     "execution_count": 13,
     "metadata": {},
     "output_type": "execute_result"
    }
   ],
   "source": [
    "epochs_auditory.plot_psd_topomap(ch_type='grad', normalize=False)"
   ]
  },
  {
   "cell_type": "markdown",
   "metadata": {},
   "source": [
    "有时，考虑相对功率可能很有趣，相对功率定义为给定频带中的功率除以总功率。要探索此选项，请查看“normalize”关键字。"
   ]
  },
  {
   "cell_type": "markdown",
   "metadata": {},
   "source": [
    "## 时频分析：功率和试验间一致性\n",
    "\n",
    "现在，让我们从我们的 Epochs 中计算时频表示（TFRs）。\n",
    "我们将看看功率和试验间一致性（ITC）。\n",
    "\n",
    "为此，我们将使用函数 `mne.time_frequency.tfr_morlet`\n",
    "但是，您也可以使用 `mne.time_frequency.tfr_multitaper`\n",
    "或 `mne.time_frequency.tfr_stockwell`。"
   ]
  },
  {
   "cell_type": "code",
   "execution_count": 32,
   "metadata": {},
   "outputs": [
    {
     "data": {
      "text/plain": [
       "<AverageTFR | time : [-0.299693, 0.499488], freq : [2.000000, 30.000000], nave : 145, channels : 364, ~9.4 MB>"
      ]
     },
     "execution_count": 32,
     "metadata": {},
     "output_type": "execute_result"
    }
   ],
   "source": [
    "import numpy as np\n",
    "\n",
    "# 定义感兴趣的频率（对数间隔）\n",
    "freqs = np.logspace(*np.log10([2, 30]), num=20)\n",
    "n_cycles = freqs / 2. # 每个频率的不同循环次数\n",
    "power, itc = mne.time_frequency.tfr_morlet(epochs_auditory, freqs=freqs, n_cycles=n_cycles, use_fft=True, \n",
    "                                           return_itc=True, decim=3, n_jobs=1)\n",
    "power"
   ]
  },
  {
   "cell_type": "code",
   "execution_count": 33,
   "metadata": {},
   "outputs": [
    {
     "name": "stderr",
     "output_type": "stream",
     "text": [
      "C:\\Users\\pomelo\\AppData\\Local\\Temp\\ipykernel_4660\\3763878784.py:1: RuntimeWarning: tmax is not in time interval. tmax is set to <class 'mne.time_frequency.tfr.AverageTFR'>.tmax (0.499488 s)\n",
      "  power.crop(-0.1, 0.7) # 裁剪以去除边缘伪影\n"
     ]
    },
    {
     "data": {
      "text/plain": [
       "<AverageTFR | time : [-0.099898, 0.499488], freq : [2.000000, 30.000000], nave : 145, channels : 364, ~7.2 MB>"
      ]
     },
     "execution_count": 33,
     "metadata": {},
     "output_type": "execute_result"
    }
   ],
   "source": [
    "power.crop(-0.1, 0.7) # 裁剪以去除边缘伪影"
   ]
  },
  {
   "cell_type": "code",
   "execution_count": 16,
   "metadata": {},
   "outputs": [
    {
     "name": "stderr",
     "output_type": "stream",
     "text": [
      "C:\\Users\\pomelo\\AppData\\Local\\Temp\\ipykernel_4660\\3658010723.py:1: RuntimeWarning: tmax is not in time interval. tmax is set to <class 'mne.time_frequency.tfr.AverageTFR'>.tmax (0.499488 s)\n",
      "  itc.crop(-0.1, 0.7)\n"
     ]
    },
    {
     "data": {
      "text/plain": [
       "<AverageTFR | time : [-0.099898, 0.499488], freq : [2.000000, 30.000000], nave : 145, channels : 364, ~7.2 MB>"
      ]
     },
     "execution_count": 16,
     "metadata": {},
     "output_type": "execute_result"
    }
   ],
   "source": [
    "itc.crop(-0.1, 0.7)"
   ]
  },
  {
   "cell_type": "markdown",
   "metadata": {},
   "source": [
    "### 功率检查\n",
    "生成的图形是交互式的。在拓扑图中，您可以单击一个图像来可视化一个传感器的数据。您还可以选择时频平面中的一部分，以获得某个时频区域的地形图。"
   ]
  },
  {
   "cell_type": "code",
   "execution_count": 17,
   "metadata": {},
   "outputs": [],
   "source": [
    "baseline_mode = 'logratio' \n",
    "baseline = (None, 0)"
   ]
  },
  {
   "cell_type": "markdown",
   "metadata": {},
   "source": [
    "### 画出功率拓扑图"
   ]
  },
  {
   "cell_type": "code",
   "execution_count": 34,
   "metadata": {},
   "outputs": [
    {
     "name": "stderr",
     "output_type": "stream",
     "text": [
      "d:\\Miniconda3\\envs\\MF\\lib\\site-packages\\matplotlib\\cbook\\__init__.py:314: RuntimeWarning: `mask` is None, not masking the plot ...\n",
      "  func(*args, **kwargs)\n",
      "d:\\Miniconda3\\envs\\MF\\lib\\site-packages\\matplotlib\\cbook\\__init__.py:314: RuntimeWarning: `mask` is None, not adding contour to the plot ...\n",
      "  func(*args, **kwargs)\n",
      "d:\\Miniconda3\\envs\\MF\\lib\\site-packages\\matplotlib\\cbook\\__init__.py:314: RuntimeWarning: `mask` is None, not masking the plot ...\n",
      "  func(*args, **kwargs)\n",
      "d:\\Miniconda3\\envs\\MF\\lib\\site-packages\\matplotlib\\cbook\\__init__.py:314: RuntimeWarning: `mask` is None, not adding contour to the plot ...\n",
      "  func(*args, **kwargs)\n",
      "d:\\Miniconda3\\envs\\MF\\lib\\site-packages\\matplotlib\\cbook\\__init__.py:314: RuntimeWarning: `mask` is None, not masking the plot ...\n",
      "  func(*args, **kwargs)\n",
      "d:\\Miniconda3\\envs\\MF\\lib\\site-packages\\matplotlib\\cbook\\__init__.py:314: RuntimeWarning: `mask` is None, not adding contour to the plot ...\n",
      "  func(*args, **kwargs)\n",
      "d:\\Miniconda3\\envs\\MF\\lib\\site-packages\\matplotlib\\cbook\\__init__.py:314: RuntimeWarning: `mask` is None, not masking the plot ...\n",
      "  func(*args, **kwargs)\n",
      "d:\\Miniconda3\\envs\\MF\\lib\\site-packages\\matplotlib\\cbook\\__init__.py:314: RuntimeWarning: `mask` is None, not adding contour to the plot ...\n",
      "  func(*args, **kwargs)\n"
     ]
    },
    {
     "data": {
      "text/plain": [
       "<Figure size 2560x1311 with 2 Axes>"
      ]
     },
     "execution_count": 34,
     "metadata": {},
     "output_type": "execute_result"
    }
   ],
   "source": [
    "(power.copy()\n",
    " .pick_types(eeg=True, meg=False)\n",
    " .plot_topo())"
   ]
  },
  {
   "cell_type": "markdown",
   "metadata": {},
   "source": [
    "### 画出一个单独通道的功率图"
   ]
  },
  {
   "cell_type": "code",
   "execution_count": 35,
   "metadata": {},
   "outputs": [
    {
     "data": {
      "text/plain": [
       "[<Figure size 640x480 with 2 Axes>]"
      ]
     },
     "execution_count": 35,
     "metadata": {},
     "output_type": "execute_result"
    }
   ],
   "source": [
    "power.plot(picks='EEG 050', baseline=baseline, mode=baseline_mode)"
   ]
  },
  {
   "cell_type": "markdown",
   "metadata": {},
   "source": [
    "### 画出特定频率范围的拓扑图"
   ]
  },
  {
   "cell_type": "code",
   "execution_count": 39,
   "metadata": {},
   "outputs": [],
   "source": [
    "import matplotlib.pyplot as plt\n",
    "\n",
    "fig, axis = plt.subplots(1, 3, figsize=(7, 4))\n",
    "power.plot_topomap(ch_type='grad', tmin=-0.1, tmax=0.5, fmin=4, fmax=7, baseline=baseline, mode=baseline_mode, \n",
    "                   axes=axis[0], show=False, contours=1) # 经过前面的裁剪操作，此时的数据段只有-0.1到0.5秒的数据\n",
    "axis[0].set_title('Theta') # 单独给子图命名\n",
    "power.plot_topomap(ch_type='grad', tmin=-0.1, tmax=0.5, fmin=8, fmax=12, baseline=baseline, mode=baseline_mode, \n",
    "                   axes=axis[1], show=False, contours=1)\n",
    "axis[1].set_title('Alpha')\n",
    "power.plot_topomap(ch_type='grad', tmin=-0.1, tmax=0.5, fmin=15, fmax=30, baseline=baseline, mode=baseline_mode, \n",
    "                   axes=axis[2], show=False, contours=1)\n",
    "axis[2].set_title('Beta')\n",
    "plt.tight_layout()\n",
    "plt.show()"
   ]
  },
  {
   "cell_type": "markdown",
   "metadata": {},
   "source": [
    "### 联合作图\n",
    "还可以创建一个显示聚合 TFR 的联合图，通过通道和拓扑图在特定的时间和频率，以获得关于跨越时间和空间的振荡效应的简要概述。"
   ]
  },
  {
   "cell_type": "code",
   "execution_count": 40,
   "metadata": {},
   "outputs": [],
   "source": [
    "power.plot_joint(baseline=baseline, mode='mean', tmin=None, tmax=None, timefreqs=[(0.05, 2.), (0.1, 11.)])\n",
    "plt.show()"
   ]
  },
  {
   "cell_type": "markdown",
   "metadata": {},
   "source": [
    "### 一致性检验"
   ]
  },
  {
   "cell_type": "code",
   "execution_count": 41,
   "metadata": {},
   "outputs": [
    {
     "name": "stderr",
     "output_type": "stream",
     "text": [
      "d:\\Miniconda3\\envs\\MF\\lib\\site-packages\\matplotlib\\cbook\\__init__.py:314: RuntimeWarning: `mask` is None, not masking the plot ...\n",
      "  func(*args, **kwargs)\n",
      "d:\\Miniconda3\\envs\\MF\\lib\\site-packages\\matplotlib\\cbook\\__init__.py:314: RuntimeWarning: `mask` is None, not adding contour to the plot ...\n",
      "  func(*args, **kwargs)\n",
      "d:\\Miniconda3\\envs\\MF\\lib\\site-packages\\matplotlib\\cbook\\__init__.py:314: RuntimeWarning: `mask` is None, not masking the plot ...\n",
      "  func(*args, **kwargs)\n",
      "d:\\Miniconda3\\envs\\MF\\lib\\site-packages\\matplotlib\\cbook\\__init__.py:314: RuntimeWarning: `mask` is None, not adding contour to the plot ...\n",
      "  func(*args, **kwargs)\n",
      "d:\\Miniconda3\\envs\\MF\\lib\\site-packages\\matplotlib\\cbook\\__init__.py:314: RuntimeWarning: `mask` is None, not masking the plot ...\n",
      "  func(*args, **kwargs)\n",
      "d:\\Miniconda3\\envs\\MF\\lib\\site-packages\\matplotlib\\cbook\\__init__.py:314: RuntimeWarning: `mask` is None, not adding contour to the plot ...\n",
      "  func(*args, **kwargs)\n",
      "d:\\Miniconda3\\envs\\MF\\lib\\site-packages\\matplotlib\\cbook\\__init__.py:314: RuntimeWarning: `mask` is None, not masking the plot ...\n",
      "  func(*args, **kwargs)\n",
      "d:\\Miniconda3\\envs\\MF\\lib\\site-packages\\matplotlib\\cbook\\__init__.py:314: RuntimeWarning: `mask` is None, not adding contour to the plot ...\n",
      "  func(*args, **kwargs)\n",
      "d:\\Miniconda3\\envs\\MF\\lib\\site-packages\\matplotlib\\cbook\\__init__.py:314: RuntimeWarning: `mask` is None, not masking the plot ...\n",
      "  func(*args, **kwargs)\n",
      "d:\\Miniconda3\\envs\\MF\\lib\\site-packages\\matplotlib\\cbook\\__init__.py:314: RuntimeWarning: `mask` is None, not adding contour to the plot ...\n",
      "  func(*args, **kwargs)\n",
      "d:\\Miniconda3\\envs\\MF\\lib\\site-packages\\matplotlib\\cbook\\__init__.py:314: RuntimeWarning: `mask` is None, not masking the plot ...\n",
      "  func(*args, **kwargs)\n",
      "d:\\Miniconda3\\envs\\MF\\lib\\site-packages\\matplotlib\\cbook\\__init__.py:314: RuntimeWarning: `mask` is None, not adding contour to the plot ...\n",
      "  func(*args, **kwargs)\n",
      "d:\\Miniconda3\\envs\\MF\\lib\\site-packages\\matplotlib\\cbook\\__init__.py:314: RuntimeWarning: `mask` is None, not masking the plot ...\n",
      "  func(*args, **kwargs)\n",
      "d:\\Miniconda3\\envs\\MF\\lib\\site-packages\\matplotlib\\cbook\\__init__.py:314: RuntimeWarning: `mask` is None, not adding contour to the plot ...\n",
      "  func(*args, **kwargs)\n",
      "d:\\Miniconda3\\envs\\MF\\lib\\site-packages\\matplotlib\\cbook\\__init__.py:314: RuntimeWarning: `mask` is None, not masking the plot ...\n",
      "  func(*args, **kwargs)\n",
      "d:\\Miniconda3\\envs\\MF\\lib\\site-packages\\matplotlib\\cbook\\__init__.py:314: RuntimeWarning: `mask` is None, not adding contour to the plot ...\n",
      "  func(*args, **kwargs)\n",
      "d:\\Miniconda3\\envs\\MF\\lib\\site-packages\\matplotlib\\cbook\\__init__.py:314: RuntimeWarning: `mask` is None, not masking the plot ...\n",
      "  func(*args, **kwargs)\n",
      "d:\\Miniconda3\\envs\\MF\\lib\\site-packages\\matplotlib\\cbook\\__init__.py:314: RuntimeWarning: `mask` is None, not adding contour to the plot ...\n",
      "  func(*args, **kwargs)\n",
      "d:\\Miniconda3\\envs\\MF\\lib\\site-packages\\matplotlib\\cbook\\__init__.py:314: RuntimeWarning: `mask` is None, not masking the plot ...\n",
      "  func(*args, **kwargs)\n",
      "d:\\Miniconda3\\envs\\MF\\lib\\site-packages\\matplotlib\\cbook\\__init__.py:314: RuntimeWarning: `mask` is None, not adding contour to the plot ...\n",
      "  func(*args, **kwargs)\n",
      "d:\\Miniconda3\\envs\\MF\\lib\\site-packages\\matplotlib\\cbook\\__init__.py:314: RuntimeWarning: `mask` is None, not masking the plot ...\n",
      "  func(*args, **kwargs)\n",
      "d:\\Miniconda3\\envs\\MF\\lib\\site-packages\\matplotlib\\cbook\\__init__.py:314: RuntimeWarning: `mask` is None, not adding contour to the plot ...\n",
      "  func(*args, **kwargs)\n"
     ]
    },
    {
     "data": {
      "text/plain": [
       "<Figure size 2560x1311 with 2 Axes>"
      ]
     },
     "execution_count": 41,
     "metadata": {},
     "output_type": "execute_result"
    }
   ],
   "source": [
    "itc.plot_topo(title='Inter-Trial coherence', vmin=0, vmax=0.5, cmap='Reds')"
   ]
  },
  {
   "cell_type": "markdown",
   "metadata": {},
   "source": [
    "## 练习\n",
    "ITC拓扑图可视化"
   ]
  },
  {
   "cell_type": "code",
   "execution_count": 42,
   "metadata": {},
   "outputs": [
    {
     "name": "stderr",
     "output_type": "stream",
     "text": [
      "d:\\Miniconda3\\envs\\MF\\lib\\site-packages\\matplotlib\\cbook\\__init__.py:314: RuntimeWarning: `mask` is None, not masking the plot ...\n",
      "  func(*args, **kwargs)\n",
      "d:\\Miniconda3\\envs\\MF\\lib\\site-packages\\matplotlib\\cbook\\__init__.py:314: RuntimeWarning: `mask` is None, not adding contour to the plot ...\n",
      "  func(*args, **kwargs)\n",
      "d:\\Miniconda3\\envs\\MF\\lib\\site-packages\\matplotlib\\cbook\\__init__.py:314: RuntimeWarning: `mask` is None, not masking the plot ...\n",
      "  func(*args, **kwargs)\n",
      "d:\\Miniconda3\\envs\\MF\\lib\\site-packages\\matplotlib\\cbook\\__init__.py:314: RuntimeWarning: `mask` is None, not adding contour to the plot ...\n",
      "  func(*args, **kwargs)\n",
      "d:\\Miniconda3\\envs\\MF\\lib\\site-packages\\matplotlib\\cbook\\__init__.py:314: RuntimeWarning: `mask` is None, not masking the plot ...\n",
      "  func(*args, **kwargs)\n",
      "d:\\Miniconda3\\envs\\MF\\lib\\site-packages\\matplotlib\\cbook\\__init__.py:314: RuntimeWarning: `mask` is None, not adding contour to the plot ...\n",
      "  func(*args, **kwargs)\n",
      "d:\\Miniconda3\\envs\\MF\\lib\\site-packages\\matplotlib\\cbook\\__init__.py:314: RuntimeWarning: `mask` is None, not masking the plot ...\n",
      "  func(*args, **kwargs)\n",
      "d:\\Miniconda3\\envs\\MF\\lib\\site-packages\\matplotlib\\cbook\\__init__.py:314: RuntimeWarning: `mask` is None, not adding contour to the plot ...\n",
      "  func(*args, **kwargs)\n",
      "d:\\Miniconda3\\envs\\MF\\lib\\site-packages\\matplotlib\\cbook\\__init__.py:314: RuntimeWarning: `mask` is None, not masking the plot ...\n",
      "  func(*args, **kwargs)\n",
      "d:\\Miniconda3\\envs\\MF\\lib\\site-packages\\matplotlib\\cbook\\__init__.py:314: RuntimeWarning: `mask` is None, not adding contour to the plot ...\n",
      "  func(*args, **kwargs)\n",
      "d:\\Miniconda3\\envs\\MF\\lib\\site-packages\\matplotlib\\cbook\\__init__.py:314: RuntimeWarning: `mask` is None, not masking the plot ...\n",
      "  func(*args, **kwargs)\n",
      "d:\\Miniconda3\\envs\\MF\\lib\\site-packages\\matplotlib\\cbook\\__init__.py:314: RuntimeWarning: `mask` is None, not adding contour to the plot ...\n",
      "  func(*args, **kwargs)\n",
      "d:\\Miniconda3\\envs\\MF\\lib\\site-packages\\matplotlib\\cbook\\__init__.py:314: RuntimeWarning: `mask` is None, not masking the plot ...\n",
      "  func(*args, **kwargs)\n",
      "d:\\Miniconda3\\envs\\MF\\lib\\site-packages\\matplotlib\\cbook\\__init__.py:314: RuntimeWarning: `mask` is None, not adding contour to the plot ...\n",
      "  func(*args, **kwargs)\n",
      "d:\\Miniconda3\\envs\\MF\\lib\\site-packages\\matplotlib\\cbook\\__init__.py:314: RuntimeWarning: `mask` is None, not masking the plot ...\n",
      "  func(*args, **kwargs)\n",
      "d:\\Miniconda3\\envs\\MF\\lib\\site-packages\\matplotlib\\cbook\\__init__.py:314: RuntimeWarning: `mask` is None, not adding contour to the plot ...\n",
      "  func(*args, **kwargs)\n",
      "d:\\Miniconda3\\envs\\MF\\lib\\site-packages\\matplotlib\\cbook\\__init__.py:314: RuntimeWarning: `mask` is None, not masking the plot ...\n",
      "  func(*args, **kwargs)\n",
      "d:\\Miniconda3\\envs\\MF\\lib\\site-packages\\matplotlib\\cbook\\__init__.py:314: RuntimeWarning: `mask` is None, not adding contour to the plot ...\n",
      "  func(*args, **kwargs)\n",
      "d:\\Miniconda3\\envs\\MF\\lib\\site-packages\\matplotlib\\cbook\\__init__.py:314: RuntimeWarning: `mask` is None, not masking the plot ...\n",
      "  func(*args, **kwargs)\n",
      "d:\\Miniconda3\\envs\\MF\\lib\\site-packages\\matplotlib\\cbook\\__init__.py:314: RuntimeWarning: `mask` is None, not adding contour to the plot ...\n",
      "  func(*args, **kwargs)\n",
      "d:\\Miniconda3\\envs\\MF\\lib\\site-packages\\matplotlib\\cbook\\__init__.py:314: RuntimeWarning: `mask` is None, not masking the plot ...\n",
      "  func(*args, **kwargs)\n",
      "d:\\Miniconda3\\envs\\MF\\lib\\site-packages\\matplotlib\\cbook\\__init__.py:314: RuntimeWarning: `mask` is None, not adding contour to the plot ...\n",
      "  func(*args, **kwargs)\n",
      "d:\\Miniconda3\\envs\\MF\\lib\\site-packages\\matplotlib\\cbook\\__init__.py:314: RuntimeWarning: `mask` is None, not masking the plot ...\n",
      "  func(*args, **kwargs)\n",
      "d:\\Miniconda3\\envs\\MF\\lib\\site-packages\\matplotlib\\cbook\\__init__.py:314: RuntimeWarning: `mask` is None, not adding contour to the plot ...\n",
      "  func(*args, **kwargs)\n",
      "d:\\Miniconda3\\envs\\MF\\lib\\site-packages\\matplotlib\\cbook\\__init__.py:314: RuntimeWarning: `mask` is None, not masking the plot ...\n",
      "  func(*args, **kwargs)\n",
      "d:\\Miniconda3\\envs\\MF\\lib\\site-packages\\matplotlib\\cbook\\__init__.py:314: RuntimeWarning: `mask` is None, not adding contour to the plot ...\n",
      "  func(*args, **kwargs)\n"
     ]
    },
    {
     "data": {
      "text/plain": [
       "<Figure size 2560x1311 with 2 Axes>"
      ]
     },
     "execution_count": 42,
     "metadata": {},
     "output_type": "execute_result"
    }
   ],
   "source": [
    "(itc.copy()\n",
    " .pick_types(eeg=True, meg=False)\n",
    " .plot_topo())"
   ]
  },
  {
   "cell_type": "code",
   "execution_count": 43,
   "metadata": {},
   "outputs": [
    {
     "data": {
      "text/plain": [
       "[<Figure size 640x480 with 2 Axes>]"
      ]
     },
     "execution_count": 43,
     "metadata": {},
     "output_type": "execute_result"
    }
   ],
   "source": [
    "itc.plot(picks='EEG 050', baseline=baseline, mode=baseline_mode)"
   ]
  },
  {
   "cell_type": "code",
   "execution_count": 44,
   "metadata": {},
   "outputs": [],
   "source": [
    "fig, axis = plt.subplots(1, 3, figsize=(7, 4))\n",
    "itc.plot_topomap(ch_type='grad', tmin=-0.1, tmax=0.5, fmin=4, fmax=7,\n",
    "                 baseline=baseline, mode=baseline_mode, axes=axis[0],\n",
    "                 show=False, contours=1)\n",
    "axis[0].set_title('Theta')\n",
    "itc.plot_topomap(ch_type='grad', tmin=-0.1, tmax=0.5, fmin=8, fmax=12,\n",
    "                 baseline=baseline, mode=baseline_mode, axes=axis[1],\n",
    "                 show=False, contours=1)\n",
    "axis[1].set_title('Alpha')\n",
    "itc.plot_topomap(ch_type='grad', tmin=-0.1, tmax=0.5, fmin=15, fmax=30,\n",
    "                 baseline=baseline, mode=baseline_mode, axes=axis[2],\n",
    "                 show=False, contours=1)\n",
    "axis[2].set_title('Beta')\n",
    "plt.tight_layout()\n",
    "plt.show()"
   ]
  },
  {
   "cell_type": "code",
   "execution_count": 46,
   "metadata": {},
   "outputs": [],
   "source": [
    "itc.plot_joint(baseline=baseline, mode='mean', tmin=None, tmax=None, timefreqs=[(0.05, 2.), (0.1, 11.)])\n",
    "plt.show()"
   ]
  }
 ],
 "metadata": {
  "kernelspec": {
   "display_name": "MF",
   "language": "python",
   "name": "python3"
  },
  "language_info": {
   "codemirror_mode": {
    "name": "ipython",
    "version": 3
   },
   "file_extension": ".py",
   "mimetype": "text/x-python",
   "name": "python",
   "nbconvert_exporter": "python",
   "pygments_lexer": "ipython3",
   "version": "3.8.20"
  }
 },
 "nbformat": 4,
 "nbformat_minor": 2
}
