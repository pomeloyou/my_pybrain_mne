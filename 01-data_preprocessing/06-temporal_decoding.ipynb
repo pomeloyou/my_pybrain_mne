{
 "cells": [
  {
   "cell_type": "markdown",
   "metadata": {},
   "source": [
    "# 脑磁图 / 脑电图数据的多重变量分析 (解码 / 微波增强)"
   ]
  },
  {
   "cell_type": "code",
   "execution_count": 1,
   "metadata": {},
   "outputs": [],
   "source": [
    "%matplotlib qt"
   ]
  },
  {
   "cell_type": "code",
   "execution_count": 2,
   "metadata": {},
   "outputs": [],
   "source": [
    "import pathlib\n",
    "import matplotlib\n",
    "import matplotlib.pyplot as plt\n",
    "import mne\n",
    "\n",
    "matplotlib.use('Qt5Agg')\n",
    "mne.set_log_level('Warning')"
   ]
  },
  {
   "cell_type": "markdown",
   "metadata": {},
   "source": [
    "## 加载分段数据"
   ]
  },
  {
   "cell_type": "code",
   "execution_count": 3,
   "metadata": {},
   "outputs": [
    {
     "data": {
      "text/html": [
       "<table class=\"table table-hover table-striped table-sm table-responsive small\">\n",
       "    <tr>\n",
       "        <th>Number of events</th>\n",
       "        <td>320</td>\n",
       "    </tr>\n",
       "    <tr>\n",
       "        <th>Events</th>\n",
       "        \n",
       "        <td>Auditory/Left: 72<br/>Auditory/Right: 73<br/>Button: 16<br/>Smiley: 15<br/>Visual/Left: 73<br/>Visual/Right: 71</td>\n",
       "        \n",
       "    </tr>\n",
       "    <tr>\n",
       "        <th>Time range</th>\n",
       "        <td>-0.300 – 0.499 s</td>\n",
       "    </tr>\n",
       "    <tr>\n",
       "        <th>Baseline</th>\n",
       "        <td>-0.300 – 0.000 s</td>\n",
       "    </tr>\n",
       "</table>"
      ],
      "text/plain": [
       "<EpochsFIF |  320 events (all good), -0.299693 – 0.499488 s, baseline -0.299693 – 0 s, ~442.0 MB, data loaded,\n",
       " 'Auditory/Left': 72\n",
       " 'Auditory/Right': 73\n",
       " 'Button': 16\n",
       " 'Smiley': 15\n",
       " 'Visual/Left': 73\n",
       " 'Visual/Right': 71>"
      ]
     },
     "execution_count": 3,
     "metadata": {},
     "output_type": "execute_result"
    }
   ],
   "source": [
    "sample_data_dir = 'F:/Database/Multimodal_data/mne_data/MNE-sample-data/' # 设置已有数据路径\n",
    "sample_data_dir = pathlib.Path(sample_data_dir)\n",
    "epochs = mne.read_epochs(pathlib.Path(sample_data_dir / 'out_data') / 'epochs_epo.fif')\n",
    "epochs.apply_baseline((None, 0))\n",
    "epochs"
   ]
  },
  {
   "cell_type": "markdown",
   "metadata": {},
   "source": [
    "## 挑选感兴趣的段落\n",
    "此处打算分析听觉段落"
   ]
  },
  {
   "cell_type": "code",
   "execution_count": 4,
   "metadata": {},
   "outputs": [
    {
     "data": {
      "text/html": [
       "<table class=\"table table-hover table-striped table-sm table-responsive small\">\n",
       "    <tr>\n",
       "        <th>Number of events</th>\n",
       "        <td>145</td>\n",
       "    </tr>\n",
       "    <tr>\n",
       "        <th>Events</th>\n",
       "        \n",
       "        <td>Auditory/Left: 72<br/>Auditory/Right: 73</td>\n",
       "        \n",
       "    </tr>\n",
       "    <tr>\n",
       "        <th>Time range</th>\n",
       "        <td>-0.300 – 0.499 s</td>\n",
       "    </tr>\n",
       "    <tr>\n",
       "        <th>Baseline</th>\n",
       "        <td>-0.300 – 0.000 s</td>\n",
       "    </tr>\n",
       "</table>"
      ],
      "text/plain": [
       "<EpochsFIF |  145 events (all good), -0.299693 – 0.499488 s, baseline -0.299693 – 0 s, ~200.5 MB, data loaded,\n",
       " 'Auditory/Left': 72\n",
       " 'Auditory/Right': 73>"
      ]
     },
     "execution_count": 4,
     "metadata": {},
     "output_type": "execute_result"
    }
   ],
   "source": [
    "epochs_auditory = epochs['Auditory']\n",
    "epochs_auditory "
   ]
  },
  {
   "cell_type": "markdown",
   "metadata": {},
   "source": [
    "## 计算经验诱发差"
   ]
  },
  {
   "cell_type": "code",
   "execution_count": 6,
   "metadata": {},
   "outputs": [
    {
     "data": {
      "text/plain": [
       "[<Figure size 800x600 with 1 Axes>,\n",
       " <Figure size 800x600 with 1 Axes>,\n",
       " <Figure size 800x600 with 1 Axes>]"
      ]
     },
     "execution_count": 6,
     "metadata": {},
     "output_type": "execute_result"
    }
   ],
   "source": [
    "evoked_diff = mne.combine_evoked(\n",
    "    [epochs_auditory['Auditory/Left'].average(),\n",
    "     epochs_auditory['Auditory/Right'].average()],\n",
    "     weights=[1, -1] # 左边减去右边，做差值\n",
    ")\n",
    "\n",
    "evoked_diff.plot(gfp=True)\n",
    "mne.viz.plot_compare_evokeds(\n",
    "    [epochs_auditory['Auditory/Left'].average(),\n",
    "     epochs_auditory['Auditory/Right'].average(),\n",
    "     evoked_diff]\n",
    ")"
   ]
  },
  {
   "cell_type": "markdown",
   "metadata": {},
   "source": [
    "只是计算诱发电位差还不够，下面进行一些机器学习的方法"
   ]
  },
  {
   "cell_type": "markdown",
   "metadata": {},
   "source": [
    "## 平衡各分段数目"
   ]
  },
  {
   "cell_type": "code",
   "execution_count": 7,
   "metadata": {},
   "outputs": [
    {
     "data": {
      "text/html": [
       "<table class=\"table table-hover table-striped table-sm table-responsive small\">\n",
       "    <tr>\n",
       "        <th>Number of events</th>\n",
       "        <td>144</td>\n",
       "    </tr>\n",
       "    <tr>\n",
       "        <th>Events</th>\n",
       "        \n",
       "        <td>Auditory/Left: 72<br/>Auditory/Right: 72</td>\n",
       "        \n",
       "    </tr>\n",
       "    <tr>\n",
       "        <th>Time range</th>\n",
       "        <td>-0.300 – 0.499 s</td>\n",
       "    </tr>\n",
       "    <tr>\n",
       "        <th>Baseline</th>\n",
       "        <td>-0.300 – 0.000 s</td>\n",
       "    </tr>\n",
       "</table>"
      ],
      "text/plain": [
       "<EpochsFIF |  144 events (all good), -0.299693 – 0.499488 s, baseline -0.299693 – 0 s, ~199.2 MB, data loaded,\n",
       " 'Auditory/Left': 72\n",
       " 'Auditory/Right': 72>"
      ]
     },
     "execution_count": 7,
     "metadata": {},
     "output_type": "execute_result"
    }
   ],
   "source": [
    "# 为了使概率水平保持在50%的准确度，我们首先使每个条件下的epoch数量相等。\n",
    "epochs_auditory.equalize_event_counts(epochs_auditory.event_id)\n",
    "epochs_auditory"
   ]
  },
  {
   "cell_type": "markdown",
   "metadata": {},
   "source": [
    "## 创建输入`X`和对应的标签`y`"
   ]
  },
  {
   "cell_type": "markdown",
   "metadata": {},
   "source": [
    "分类器接收矩阵`X`作为输入，并返回向量`y`（由`0`和`1`组成）。这里的`X`将是**所有梯度计上一个时间点的数据**（因此称为多元）。我们想训练我们的模型来区分`听觉/左`和`听觉/右`试验。\n",
    "\n",
    "我们与所有传感器协同工作，试图在两种条件之间找到一种判别模式，以预测单个试验的实验条件。\n",
    "\n",
    "对于分类，我们将使用`scikit-learn`包(http://scikit-learn.org/)以及MNE Python函数。\n",
    "\n",
    "让我们首先创建响应向量`y`。"
   ]
  },
  {
   "cell_type": "code",
   "execution_count": 8,
   "metadata": {},
   "outputs": [
    {
     "name": "stdout",
     "output_type": "stream",
     "text": [
      "[1 0 1 0 1 0 1 0 1 0 1 0 1 0 1 0 1 0 1 0 1 0 1 0 1 0 1 0 1 0 1 0 1 0 1 0 1\n",
      " 0 0 1 0 1 0 1 0 1 0 1 0 1 0 1 0 1 0 1 1 0 1 0 1 0 1 0 1 0 1 0 1 0 1 0 1 0\n",
      " 1 0 0 1 0 1 0 1 0 1 0 1 0 1 0 1 0 1 0 1 1 0 1 0 1 0 1 0 1 0 0 1 0 1 0 1 0\n",
      " 1 0 1 0 1 0 1 0 1 0 1 1 0 1 0 1 0 1 0 1 0 1 0 1 0 1 0 1 0 1 0 1 0]\n",
      "\n",
      "Size of y: 144\n"
     ]
    }
   ],
   "source": [
    "import numpy as np\n",
    "\n",
    "# 创建一个长度为试验次数的向量\n",
    "y = np.empty(len(epochs_auditory.events), dtype=int)\n",
    "\n",
    "# 找出哪个试次是左声音，哪个试次是右声音\n",
    "idx_left = epochs_auditory.events[:, 2] == epochs_auditory.event_id['Auditory/Left']\n",
    "idx_right = epochs_auditory.events[:, 2] == epochs_auditory.event_id['Auditory/Right']\n",
    "\n",
    "# 将左声音试次标记为0，右声音试次标记为1\n",
    "y[idx_left] = 0\n",
    "y[idx_right] = 1\n",
    "\n",
    "print(y)\n",
    "print(f'\\nSize of y: {y.size}')"
   ]
  },
  {
   "cell_type": "markdown",
   "metadata": {},
   "source": [
    "现在创建输入矩阵`X`。\n",
    "\n",
    "我们只想关注这里的梯度计通道，所以我们使用`pick_types（meg='grad'）`。对于磁力计通道，我们需要传递`meg='mag'`；对于EEG通道：`meg=False，eeg=True`。我们创建了一个epochs的副本，因为`pick_types（）`在原地操作，但我们希望保持原始epochs对象不变。"
   ]
  },
  {
   "cell_type": "code",
   "execution_count": 9,
   "metadata": {},
   "outputs": [
    {
     "name": "stdout",
     "output_type": "stream",
     "text": [
      "(144, 203, 481)\n"
     ]
    },
    {
     "name": "stderr",
     "output_type": "stream",
     "text": [
      "C:\\Users\\pomelo\\AppData\\Local\\Temp\\ipykernel_9148\\1449025458.py:4: FutureWarning: The current default of copy=False will change to copy=True in 1.7. Set the value of copy explicitly to avoid this warning\n",
      "  data = epochs_auditory_grad.get_data()\n"
     ]
    }
   ],
   "source": [
    "epochs_auditory_grad = epochs_auditory.copy().pick_types(meg='grad')\n",
    "\n",
    "# 以 NumPy 数组的形式检索数据，数组形状为：(n_trials, n_channels, n_timepoints)\n",
    "data = epochs_auditory_grad.get_data()\n",
    "print(data.shape)"
   ]
  },
  {
   "cell_type": "markdown",
   "metadata": {},
   "source": [
    "我们需要重塑数组，以便对于每个试验，我们都有一个向量`[channel_1_time_1，channel_1_time_2，…，channel_m_time_n]`，即我们的目标是将`X`重塑为维度`（n_trials，n_channels*n_timepoints）`。"
   ]
  },
  {
   "cell_type": "code",
   "execution_count": 10,
   "metadata": {},
   "outputs": [
    {
     "name": "stdout",
     "output_type": "stream",
     "text": [
      "(144, 97643)\n"
     ]
    }
   ],
   "source": [
    "n_trials = data.shape[0]\n",
    "\n",
    "X = data.reshape(n_trials, -1)\n",
    "print(X.shape)"
   ]
  },
  {
   "cell_type": "markdown",
   "metadata": {},
   "source": [
    "## 创建一个分类器"
   ]
  },
  {
   "cell_type": "markdown",
   "metadata": {},
   "source": [
    "我们将使用简单的`scikit-learn`进行第一轮分类。这是为了证明您可以简单地将MNE的预处理数据输入到`scikit-learn`中。"
   ]
  },
  {
   "cell_type": "code",
   "execution_count": 11,
   "metadata": {},
   "outputs": [
    {
     "name": "stdout",
     "output_type": "stream",
     "text": [
      "CV scores: [0.94285714 0.84761905 0.86666667 0.90952381 0.9744898 ]\n",
      "Mean ROC AUC = 0.908 (STD = 0.047)\n"
     ]
    }
   ],
   "source": [
    "from sklearn.model_selection import StratifiedKFold, cross_val_score\n",
    "from sklearn.linear_model import LogisticRegression\n",
    "from sklearn.preprocessing import StandardScaler\n",
    "from sklearn.pipeline import make_pipeline\n",
    "\n",
    "# 分类器管道：对数据进行缩放非常重要\n",
    "# 在运行实际的分类器之前（在我们的例子中是逻辑回归）。\n",
    "clf = make_pipeline(StandardScaler(), LogisticRegression())\n",
    "\n",
    "# 为了避免过拟合，我们使用交叉验证来评估分类器的性能。\n",
    "# 这里使用不进行数据打乱的交叉验证，即‘块交叉验证’，sklearn中默认不打乱数据，这对我们的实验比较好\n",
    "n_splits = 5\n",
    "scoring = 'roc_auc' # 评估指标 \n",
    "cv = StratifiedKFold(n_splits=n_splits) # 交叉验证策略\n",
    "scores = cross_val_score(clf, X=X, y=y, cv=cv, scoring=scoring) # 交叉验证\n",
    "\n",
    "# 交叉验证运行中ROC AUC的平均值和标准差\n",
    "roc_auc_mean = round(np.mean(scores), 3) # 平均值，保留三位小数\n",
    "roc_auc_std = round(np.std(scores), 3) # 标准差，保留三位小数\n",
    "\n",
    "print(f'CV scores: {scores}')\n",
    "print(f'Mean ROC AUC = {roc_auc_mean:.3f} (STD = {roc_auc_std:.3f})')\n"
   ]
  },
  {
   "cell_type": "markdown",
   "metadata": {},
   "source": [
    "可视化交叉验证结果"
   ]
  },
  {
   "cell_type": "code",
   "execution_count": 16,
   "metadata": {},
   "outputs": [
    {
     "data": {
      "text/plain": [
       "Text(0.5, 1.0, 'Cross_Validation Scores')"
      ]
     },
     "execution_count": 16,
     "metadata": {},
     "output_type": "execute_result"
    }
   ],
   "source": [
    "fig, ax = plt.subplots()\n",
    "# 绿色三角表示平均值\n",
    "ax.boxplot(scores, showmeans=True, whis=(0, 100), labels=['Left vs Right'])\n",
    "ax.set_ylabel('Score')\n",
    "ax.set_title('Cross_Validation Scores')"
   ]
  },
  {
   "cell_type": "markdown",
   "metadata": {},
   "source": [
    "## 我们可以使用`mne.decodering`模块更简单地做到这一点。 Let's go. 🚀"
   ]
  },
  {
   "cell_type": "code",
   "execution_count": 17,
   "metadata": {},
   "outputs": [
    {
     "name": "stderr",
     "output_type": "stream",
     "text": [
      "C:\\Users\\pomelo\\AppData\\Local\\Temp\\ipykernel_9148\\2376098514.py:6: FutureWarning: The current default of copy=False will change to copy=True in 1.7. Set the value of copy explicitly to avoid this warning\n",
      "  X = epochs_auditory_grad.get_data()\n"
     ]
    },
    {
     "name": "stdout",
     "output_type": "stream",
     "text": [
      "CV scores: [0.94285714 0.80952381 0.9        0.91428571 0.9744898 ]\n",
      "Mean ROC AUC= 0.908 (STD = 0.056)\n"
     ]
    }
   ],
   "source": [
    "from sklearn.pipeline import make_pipeline\n",
    "from mne.decoding import Scaler, Vectorizer, cross_val_multiscore\n",
    "\n",
    "# 首先创建X和y\n",
    "epochs_auditory_grad = epochs_auditory.copy().pick_types(meg='grad')\n",
    "X = epochs_auditory_grad.get_data()\n",
    "y = epochs_auditory_grad.events[:, 2]\n",
    "\n",
    "# 分类器管道\n",
    "clf = make_pipeline(\n",
    "    # 正确处理不同通道类型的MNE缩放器\n",
    "    Scaler(epochs_auditory_grad.info),\n",
    "    # 使用MNE矢量器就可以不再进行numpy数组变形了\n",
    "    Vectorizer(),\n",
    "    # 分类器\n",
    "    LogisticRegression()\n",
    ")\n",
    "\n",
    "# 运行交叉验证\n",
    "# 注意这里使用的是MNE的cross_val_multiscore()函数，而不是前面用的scikit-learn的cross_val_score()函数。因此只需要设置交叉验证的分割数，MNE就会自动完成剩下的工作。\n",
    "n_splits = 5\n",
    "scores = 'roc_auc'\n",
    "scores = cross_val_multiscore(clf, X, y, cv=5, scoring='roc_auc')\n",
    "\n",
    "# 计算ROC AUC交叉验证的均值和标准差\n",
    "roc_auc_mean = round(np.mean(scores), 3)\n",
    "roc_auc_std = round(np.std(scores), 3)\n",
    "\n",
    "print(f'CV scores: {scores}')\n",
    "print(f'Mean ROC AUC= {roc_auc_mean:.3f} (STD = {roc_auc_std:.3f})')"
   ]
  },
  {
   "cell_type": "markdown",
   "metadata": {},
   "source": [
    "## 随时间解码：每个时间点的比较。"
   ]
  },
  {
   "cell_type": "markdown",
   "metadata": {},
   "source": [
    "在前面的例子中，我们训练了一个分类器，通过使用**整个试验**的时空模式来区分实验条件。因此，分类器（希望如此！）能够预测哪些激活模式属于哪种条件"
   ]
  },
  {
   "cell_type": "code",
   "execution_count": 18,
   "metadata": {},
   "outputs": [
    {
     "name": "stderr",
     "output_type": "stream",
     "text": [
      "C:\\Users\\pomelo\\AppData\\Local\\Temp\\ipykernel_9148\\3040871294.py:6: FutureWarning: The current default of copy=False will change to copy=True in 1.7. Set the value of copy explicitly to avoid this warning\n",
      "  X = epochs_auditory_grad.get_data()\n"
     ]
    },
    {
     "name": "stdout",
     "output_type": "stream",
     "text": [
      "\n",
      "=> Mean CV scores across all time points: 0.590\n"
     ]
    }
   ],
   "source": [
    "from sklearn.preprocessing import StandardScaler\n",
    "from mne.decoding import SlidingEstimator\n",
    "\n",
    "# 首先还是创建X和y\n",
    "epochs_auditory_grad = epochs_auditory.copy().pick_types(meg='grad')\n",
    "X = epochs_auditory_grad.get_data()\n",
    "y = epochs_auditory_grad.events[:, 2]\n",
    "\n",
    "# 分类器管道，但是不需要向量化\n",
    "clf = make_pipeline(StandardScaler(), LogisticRegression())\n",
    "\n",
    "# “滑动估计器”将在每个时间点训练分类器\n",
    "scoring = 'roc_auc'\n",
    "time_decoder = SlidingEstimator(clf, scoring=scoring, n_jobs=1, verbose=True)\n",
    "\n",
    "# 运行交叉验证\n",
    "n_splits = 5\n",
    "scores = cross_val_multiscore(time_decoder, X, y, cv=5, n_jobs=1)\n",
    "\n",
    "# 每个时间点的交叉验证平均得分。\n",
    "mean_scores = np.mean(scores, axis=0)\n",
    "\n",
    "# 所有时间点的平均得分\n",
    "mean_across_all_time = round(np.mean(scores), 3)\n",
    "print(f'\\n=> Mean CV scores across all time points: {mean_across_all_time:.3f}')"
   ]
  },
  {
   "cell_type": "markdown",
   "metadata": {},
   "source": [
    "## 绘制出分类结果图"
   ]
  },
  {
   "cell_type": "code",
   "execution_count": 19,
   "metadata": {},
   "outputs": [
    {
     "data": {
      "text/plain": [
       "Text(0.5, 0.98, 'Sensor Space Decoding')"
      ]
     },
     "execution_count": 19,
     "metadata": {},
     "output_type": "execute_result"
    }
   ],
   "source": [
    "fig, ax = plt.subplots()\n",
    "\n",
    "ax.axhline(0.5, color='k', linestyle='--', label='chance') # AUC = 0.5\n",
    "ax.axvline(0, color='k', linestyle='-') # 标记时间点0\n",
    "ax.plot(epochs.times, mean_scores, label='score')\n",
    "\n",
    "ax.set_xlabel('Time (s)')\n",
    "ax.set_ylabel('Mean ROC AUC')\n",
    "ax.legend()\n",
    "ax.set_title('Left vs Right')\n",
    "fig.suptitle('Sensor Space Decoding') "
   ]
  },
  {
   "cell_type": "markdown",
   "metadata": {},
   "source": [
    "TODO:暂时还不太明白最后的分类结果图的具体含义，但是可以看出，从时间0之后，平均分数明显有提高，这可能说明了采取的刺激有效果（存疑）"
   ]
  }
 ],
 "metadata": {
  "kernelspec": {
   "display_name": "MF",
   "language": "python",
   "name": "python3"
  },
  "language_info": {
   "codemirror_mode": {
    "name": "ipython",
    "version": 3
   },
   "file_extension": ".py",
   "mimetype": "text/x-python",
   "name": "python",
   "nbconvert_exporter": "python",
   "pygments_lexer": "ipython3",
   "version": "3.8.20"
  }
 },
 "nbformat": 4,
 "nbformat_minor": 2
}
