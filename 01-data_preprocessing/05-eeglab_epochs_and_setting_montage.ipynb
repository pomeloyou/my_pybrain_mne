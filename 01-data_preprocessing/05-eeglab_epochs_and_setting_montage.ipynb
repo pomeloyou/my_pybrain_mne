{
 "cells": [
  {
   "cell_type": "markdown",
   "metadata": {},
   "source": [
    "# 为EEG数据加载EEGLAB的分段并设置正确的蒙版（电极位置）"
   ]
  },
  {
   "cell_type": "code",
   "execution_count": 23,
   "metadata": {},
   "outputs": [],
   "source": [
    "import pathlib\n",
    "import matplotlib\n",
    "\n",
    "import mne\n",
    "\n",
    "matplotlib.use('Qt5Agg')\n",
    "mne.set_log_level('Warning')"
   ]
  },
  {
   "cell_type": "markdown",
   "metadata": {},
   "source": [
    "## 加载预处理过的EEGLAB数据"
   ]
  },
  {
   "cell_type": "code",
   "execution_count": 24,
   "metadata": {},
   "outputs": [
    {
     "name": "stderr",
     "output_type": "stream",
     "text": [
      "C:\\Users\\pomelo\\AppData\\Local\\Temp\\ipykernel_22780\\3078805734.py:4: RuntimeWarning: At least one epoch has multiple events. Only the latency of the first event will be retained.\n",
      "  epochs = mne.read_epochs_eeglab(epochs_fname)\n"
     ]
    }
   ],
   "source": [
    "sample_data_dir = 'F:/EEG-EMG/eeglab' # 设置已有数据路径\n",
    "sample_data_dir = pathlib.Path(sample_data_dir)\n",
    "epochs_fname = pathlib.Path(sample_data_dir / '11_Done') / 'bqc01.set'\n",
    "epochs = mne.read_epochs_eeglab(epochs_fname)"
   ]
  },
  {
   "cell_type": "code",
   "execution_count": 25,
   "metadata": {},
   "outputs": [
    {
     "data": {
      "text/plain": [
       "<Figure size 640x640 with 1 Axes>"
      ]
     },
     "execution_count": 25,
     "metadata": {},
     "output_type": "execute_result"
    }
   ],
   "source": [
    "epochs.plot_sensors() # 加载数据直接画出传感器位置图，这个数据的传感器位置和头的方向不一致，需要调整"
   ]
  },
  {
   "cell_type": "markdown",
   "metadata": {},
   "source": [
    "## 加载供应商提供的蒙版"
   ]
  },
  {
   "cell_type": "code",
   "execution_count": 26,
   "metadata": {},
   "outputs": [
    {
     "data": {
      "text/plain": [
       "<Figure size 640x640 with 1 Axes>"
      ]
     },
     "execution_count": 26,
     "metadata": {},
     "output_type": "execute_result"
    }
   ],
   "source": [
    "montage_fname = pathlib.Path(sample_data_dir) / 'curry_eeg_loc.loc' # cite:https://mne.discourse.group/t/where-i-can-find-a-montage-for-neuroscan-64ch/4179 & https://mne.discourse.group/t/read-custom-montage-neuroscan-compumedics-file/5179 & https://c07s9mb7i5v.feishu.cn/wiki/HMPQwmil9i2Ebwkg4iTcSod6nAg\n",
    "dig_montage = mne.channels.read_custom_montage(montage_fname)\n",
    "dig_montage.plot(sphere='auto')"
   ]
  },
  {
   "cell_type": "markdown",
   "metadata": {},
   "source": [
    "## 将蒙版应用到加载的分段"
   ]
  },
  {
   "cell_type": "code",
   "execution_count": 27,
   "metadata": {},
   "outputs": [
    {
     "data": {
      "text/html": [
       "<table class=\"table table-hover table-striped table-sm table-responsive small\">\n",
       "    <tr>\n",
       "        <th>Number of events</th>\n",
       "        <td>4</td>\n",
       "    </tr>\n",
       "    <tr>\n",
       "        <th>Events</th>\n",
       "        \n",
       "        <td>2/1: 4</td>\n",
       "        \n",
       "    </tr>\n",
       "    <tr>\n",
       "        <th>Time range</th>\n",
       "        <td>-1.000 – 1.998 s</td>\n",
       "    </tr>\n",
       "    <tr>\n",
       "        <th>Baseline</th>\n",
       "        <td>off</td>\n",
       "    </tr>\n",
       "</table>"
      ],
      "text/plain": [
       "<EpochsEEGLAB |  4 events (all good), -1 – 1.998 s, baseline off, ~2.9 MB, data loaded,\n",
       " '2/1': 4>"
      ]
     },
     "execution_count": 27,
     "metadata": {},
     "output_type": "execute_result"
    }
   ],
   "source": [
    "epochs.set_montage(dig_montage)"
   ]
  },
  {
   "cell_type": "code",
   "execution_count": 28,
   "metadata": {},
   "outputs": [
    {
     "data": {
      "text/plain": [
       "<Figure size 640x640 with 1 Axes>"
      ]
     },
     "execution_count": 28,
     "metadata": {},
     "output_type": "execute_result"
    }
   ],
   "source": [
    "epochs.plot_sensors(show_names=True) # 应用合适蒙版后绘制出了正确的传感器位置图"
   ]
  }
 ],
 "metadata": {
  "kernelspec": {
   "display_name": "MF",
   "language": "python",
   "name": "python3"
  },
  "language_info": {
   "codemirror_mode": {
    "name": "ipython",
    "version": 3
   },
   "file_extension": ".py",
   "mimetype": "text/x-python",
   "name": "python",
   "nbconvert_exporter": "python",
   "pygments_lexer": "ipython3",
   "version": "3.8.20"
  }
 },
 "nbformat": 4,
 "nbformat_minor": 2
}
