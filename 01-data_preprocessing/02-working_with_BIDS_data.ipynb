{
 "cells": [
  {
   "cell_type": "markdown",
   "metadata": {},
   "source": [
    "# 使用BIDS数据格式"
   ]
  },
  {
   "cell_type": "code",
   "execution_count": 1,
   "metadata": {},
   "outputs": [],
   "source": [
    "import matplotlib\n",
    "import pathlib\n",
    "import mne\n",
    "import mne_bids\n",
    "\n",
    "matplotlib.use('Qt5Agg')  # for use on clusters without X server"
   ]
  },
  {
   "cell_type": "markdown",
   "metadata": {},
   "source": [
    "## 读取数据"
   ]
  },
  {
   "cell_type": "code",
   "execution_count": 23,
   "metadata": {},
   "outputs": [
    {
     "name": "stdout",
     "output_type": "stream",
     "text": [
      "Opening raw data file F:\\Database\\Multimodal_data\\mne_data\\MNE-sample-data\\MEG\\sample\\sample_audvis_raw.fif...\n",
      "    Read a total of 3 projection items:\n",
      "        PCA-v1 (1 x 102)  idle\n",
      "        PCA-v2 (1 x 102)  idle\n",
      "        PCA-v3 (1 x 102)  idle\n",
      "    Range : 25800 ... 192599 =     42.956 ...   320.670 secs\n",
      "Ready.\n",
      "320 events found on stim channel STI 014\n",
      "Event IDs: [ 1  2  3  4  5 32]\n"
     ]
    }
   ],
   "source": [
    "# sample_data_dir = mne.datasets.sample.data_path(path='F:/Database/Multimodal_data/mne_data/MNE-sample-data/', download=False)\n",
    "sample_data_dir = 'F:/Database/Multimodal_data/mne_data/MNE-sample-data/' # 设置已有数据路径\n",
    "sample_data_dir = pathlib.Path(sample_data_dir)\n",
    "\n",
    "raw_path = sample_data_dir / 'MEG' / 'sample' / 'sample_audvis_raw.fif'\n",
    "raw = mne.io.read_raw(raw_path)\n",
    "\n",
    "events = mne.find_events(raw)\n",
    "event_id = {\n",
    "    'Auditory/Left': 1,\n",
    "    'Auditory/Right': 2,\n",
    "    'Visual/Left': 3,\n",
    "    'Visual/Right': 4,\n",
    "    'Smiley': 5,\n",
    "    'Button': 32\n",
    "}"
   ]
  },
  {
   "cell_type": "markdown",
   "metadata": {},
   "source": [
    "## 将读取的原始数据转换为BIDS格式"
   ]
  },
  {
   "cell_type": "code",
   "execution_count": 24,
   "metadata": {},
   "outputs": [],
   "source": [
    "# 首先需要指定电源线频率\n",
    "raw.info['line_freq'] = 60  # specify power line frequency as required by ICA\n"
   ]
  },
  {
   "cell_type": "code",
   "execution_count": 29,
   "metadata": {},
   "outputs": [
    {
     "name": "stdout",
     "output_type": "stream",
     "text": [
      "Opening raw data file F:\\Database\\Multimodal_data\\mne_data\\MNE-sample-data\\MEG\\sample\\sample_audvis_raw.fif...\n",
      "    Read a total of 3 projection items:\n",
      "        PCA-v1 (1 x 102)  idle\n",
      "        PCA-v2 (1 x 102)  idle\n",
      "        PCA-v3 (1 x 102)  idle\n",
      "    Range : 25800 ... 192599 =     42.956 ...   320.670 secs\n",
      "Ready.\n",
      "Writing 'F:\\Database\\Multimodal_data\\mne_data\\MNE-sample-data\\out_data\\sample_BIDS\\participants.tsv'...\n",
      "Writing 'F:\\Database\\Multimodal_data\\mne_data\\MNE-sample-data\\out_data\\sample_BIDS\\participants.json'...\n",
      "Writing 'F:\\Database\\Multimodal_data\\mne_data\\MNE-sample-data\\out_data\\sample_BIDS\\sub-02\\ses-01\\meg\\sub-02_ses-01_coordsystem.json'...\n",
      "Writing 'F:\\Database\\Multimodal_data\\mne_data\\MNE-sample-data\\out_data\\sample_BIDS\\sub-02\\ses-01\\meg\\sub-02_ses-01_coordsystem.json'...\n",
      "Used Annotations descriptions: ['Auditory/Left', 'Auditory/Right', 'Button', 'Smiley', 'Visual/Left', 'Visual/Right']\n",
      "Writing 'F:\\Database\\Multimodal_data\\mne_data\\MNE-sample-data\\out_data\\sample_BIDS\\sub-02\\ses-01\\meg\\sub-02_ses-01_task-audiovisual_run-01_events.tsv'...\n",
      "Writing 'F:\\Database\\Multimodal_data\\mne_data\\MNE-sample-data\\out_data\\sample_BIDS\\sub-02\\ses-01\\meg\\sub-02_ses-01_task-audiovisual_run-01_events.json'...\n",
      "Writing 'F:\\Database\\Multimodal_data\\mne_data\\MNE-sample-data\\out_data\\sample_BIDS\\dataset_description.json'...\n",
      "Writing 'F:\\Database\\Multimodal_data\\mne_data\\MNE-sample-data\\out_data\\sample_BIDS\\sub-02\\ses-01\\meg\\sub-02_ses-01_task-audiovisual_run-01_meg.json'...\n",
      "Writing 'F:\\Database\\Multimodal_data\\mne_data\\MNE-sample-data\\out_data\\sample_BIDS\\sub-02\\ses-01\\meg\\sub-02_ses-01_task-audiovisual_run-01_channels.tsv'...\n",
      "Copying data files to sub-02_ses-01_task-audiovisual_run-01_meg.fif\n",
      "Reserving possible split file sub-02_ses-01_task-audiovisual_run-01_split-01_meg.fif\n",
      "Writing F:\\Database\\Multimodal_data\\mne_data\\MNE-sample-data\\out_data\\sample_BIDS\\sub-02\\ses-01\\meg\\sub-02_ses-01_task-audiovisual_run-01_meg.fif\n"
     ]
    },
    {
     "name": "stderr",
     "output_type": "stream",
     "text": [
      "C:\\Users\\pomelo\\AppData\\Local\\Temp\\ipykernel_34000\\3275398957.py:10: FutureWarning: The events_data parameter has been deprecated in favor the new events parameter, to ensure better consistency  with MNE-Python. The events_data parameter will be removed in MNE-BIDS 0.14. Please use the events parameter instead.\n",
      "  mne_bids.write_raw_bids(raw, bids_path=bids_path, events_data=events, event_id=event_id, overwrite=True)\n"
     ]
    },
    {
     "name": "stdout",
     "output_type": "stream",
     "text": [
      "Closing F:\\Database\\Multimodal_data\\mne_data\\MNE-sample-data\\out_data\\sample_BIDS\\sub-02\\ses-01\\meg\\sub-02_ses-01_task-audiovisual_run-01_meg.fif\n",
      "[done]\n",
      "Writing 'F:\\Database\\Multimodal_data\\mne_data\\MNE-sample-data\\out_data\\sample_BIDS\\sub-02\\ses-01\\sub-02_ses-01_scans.tsv'...\n",
      "Wrote F:\\Database\\Multimodal_data\\mne_data\\MNE-sample-data\\out_data\\sample_BIDS\\sub-02\\ses-01\\sub-02_ses-01_scans.tsv entry with meg\\sub-02_ses-01_task-audiovisual_run-01_meg.fif.\n"
     ]
    },
    {
     "data": {
      "text/plain": [
       "BIDSPath(\n",
       "root: F:/Database/Multimodal_data/mne_data/MNE-sample-data/out_data/sample_BIDS\n",
       "datatype: meg\n",
       "basename: sub-02_ses-01_task-audiovisual_run-01_meg.fif)"
      ]
     },
     "execution_count": 29,
     "metadata": {},
     "output_type": "execute_result"
    }
   ],
   "source": [
    "# 写入BIDS格式\n",
    "out_path = pathlib.Path(sample_data_dir / 'out_data/sample_BIDS')\n",
    "\n",
    "bids_path = mne_bids.BIDSPath(subject='01',\n",
    "                              session='01',\n",
    "                              task='audiovisual',\n",
    "                              run='01',\n",
    "                              root=out_path)\n",
    "\n",
    "mne_bids.write_raw_bids(raw, bids_path=bids_path, events_data=events, event_id=event_id, overwrite=True)"
   ]
  },
  {
   "cell_type": "markdown",
   "metadata": {},
   "source": [
    "## 编写MEGIN/Elekta/NeuroMag微调和串扰文件"
   ]
  },
  {
   "cell_type": "code",
   "execution_count": 28,
   "metadata": {},
   "outputs": [
    {
     "name": "stdout",
     "output_type": "stream",
     "text": [
      "Writing fine-calibration file to F:/Database/Multimodal_data/mne_data/MNE-sample-data/out_data/sample_BIDS/sub-01/ses-01/meg/sub-01_ses-01_acq-calibration_meg.dat\n",
      "Writing crosstalk file to F:/Database/Multimodal_data/mne_data/MNE-sample-data/out_data/sample_BIDS/sub-01/ses-01/meg/sub-01_ses-01_acq-crosstalk_meg.fif\n"
     ]
    }
   ],
   "source": [
    "cal_path = sample_data_dir / 'SSS' / 'sss_cal_mgh.dat'\n",
    "ct_path = sample_data_dir / 'SSS' / 'ct_sparse_mgh.fif'\n",
    "\n",
    "mne_bids.write_meg_calibration(cal_path, bids_path=bids_path)\n",
    "mne_bids.write_meg_crosstalk(ct_path, bids_path=bids_path)"
   ]
  },
  {
   "cell_type": "markdown",
   "metadata": {},
   "source": [
    "## 查看创建的文件和目录结构"
   ]
  },
  {
   "cell_type": "code",
   "execution_count": 30,
   "metadata": {},
   "outputs": [
    {
     "name": "stdout",
     "output_type": "stream",
     "text": [
      "|sample_BIDS\\\n",
      "|--- README\n",
      "|--- dataset_description.json\n",
      "|--- participants.json\n",
      "|--- participants.tsv\n",
      "|--- sub-01\\\n",
      "|------ ses-01\\\n",
      "|--------- sub-01_ses-01_scans.tsv\n",
      "|--------- meg\\\n",
      "|------------ sub-01_ses-01_acq-calibration_meg.dat\n",
      "|------------ sub-01_ses-01_acq-crosstalk_meg.fif\n",
      "|------------ sub-01_ses-01_coordsystem.json\n",
      "|------------ sub-01_ses-01_task-audiovisual_run-01_channels.tsv\n",
      "|------------ sub-01_ses-01_task-audiovisual_run-01_events.json\n",
      "|------------ sub-01_ses-01_task-audiovisual_run-01_events.tsv\n",
      "|------------ sub-01_ses-01_task-audiovisual_run-01_meg.fif\n",
      "|------------ sub-01_ses-01_task-audiovisual_run-01_meg.json\n",
      "|--- sub-02\\\n",
      "|------ ses-01\\\n",
      "|--------- sub-02_ses-01_scans.tsv\n",
      "|--------- meg\\\n",
      "|------------ sub-02_ses-01_coordsystem.json\n",
      "|------------ sub-02_ses-01_task-audiovisual_run-01_channels.tsv\n",
      "|------------ sub-02_ses-01_task-audiovisual_run-01_events.json\n",
      "|------------ sub-02_ses-01_task-audiovisual_run-01_events.tsv\n",
      "|------------ sub-02_ses-01_task-audiovisual_run-01_meg.fif\n",
      "|------------ sub-02_ses-01_task-audiovisual_run-01_meg.json\n"
     ]
    }
   ],
   "source": [
    "mne_bids.print_dir_tree(out_path)"
   ]
  },
  {
   "cell_type": "markdown",
   "metadata": {},
   "source": [
    "## 生成数据总结"
   ]
  },
  {
   "cell_type": "code",
   "execution_count": 31,
   "metadata": {},
   "outputs": [
    {
     "name": "stdout",
     "output_type": "stream",
     "text": [
      "Summarizing participants.tsv F:\\Database\\Multimodal_data\\mne_data\\MNE-sample-data\\out_data\\sample_BIDS\\participants.tsv...\n",
      "Summarizing scans.tsv files [WindowsPath('F:/Database/Multimodal_data/mne_data/MNE-sample-data/out_data/sample_BIDS/sub-01/ses-01/sub-01_ses-01_scans.tsv'), WindowsPath('F:/Database/Multimodal_data/mne_data/MNE-sample-data/out_data/sample_BIDS/sub-02/ses-01/sub-02_ses-01_scans.tsv')]...\n",
      "The participant template found: sex were all unknown;\n",
      "handedness were all unknown;\n",
      "ages all unknown\n",
      "This dataset was created by [Unspecified] and conforms to BIDS version 1.7.0.\n",
      "This report was generated with MNE-BIDS (https://doi.org/10.21105/joss.01896).\n",
      "The dataset consists of 2 participants (sex were all unknown; handedness were\n",
      "all unknown; ages all unknown) and 1 recording sessions: 01. Data was recorded\n",
      "using an MEG system (Elekta) sampled at 600.61 Hz with line noise at 60.0 Hz.\n",
      "The following software filters were applied during recording:\n",
      "SpatialCompensation. There were 2 scans in total. Recording durations ranged\n",
      "from 277.71 to 277.71 seconds (mean = 277.71, std = 0.0), for a total of 555.43\n",
      "seconds of data recorded over all scans. For each dataset, there were on average\n",
      "376.0 (std = 0.0) recording channels per scan, out of which 374.0 (std = 0.0)\n",
      "were used in analysis (2.0 +/- 0.0 were removed from analysis).\n"
     ]
    }
   ],
   "source": [
    "print(mne_bids.make_report(out_path))"
   ]
  },
  {
   "cell_type": "markdown",
   "metadata": {},
   "source": [
    "## 读取BIDS数据"
   ]
  },
  {
   "cell_type": "code",
   "execution_count": 32,
   "metadata": {},
   "outputs": [
    {
     "name": "stdout",
     "output_type": "stream",
     "text": [
      "Opening raw data file F:\\Database\\Multimodal_data\\mne_data\\MNE-sample-data\\out_data\\sample_BIDS\\sub-01\\ses-01\\meg\\sub-01_ses-01_task-audiovisual_run-01_meg.fif...\n",
      "    Read a total of 3 projection items:\n",
      "        PCA-v1 (1 x 102)  idle\n",
      "        PCA-v2 (1 x 102)  idle\n",
      "        PCA-v3 (1 x 102)  idle\n",
      "    Range : 25800 ... 192599 =     42.956 ...   320.670 secs\n",
      "Ready.\n",
      "Reading events from F:\\Database\\Multimodal_data\\mne_data\\MNE-sample-data\\out_data\\sample_BIDS\\sub-01\\ses-01\\meg\\sub-01_ses-01_task-audiovisual_run-01_events.tsv.\n",
      "Reading channel info from F:\\Database\\Multimodal_data\\mne_data\\MNE-sample-data\\out_data\\sample_BIDS\\sub-01\\ses-01\\meg\\sub-01_ses-01_task-audiovisual_run-01_channels.tsv.\n"
     ]
    }
   ],
   "source": [
    "# 读取刚才生成的BIDS数据\n",
    "bids_root = pathlib.Path(sample_data_dir / 'out_data/sample_BIDS')\n",
    "\n",
    "bids_path = mne_bids.BIDSPath(subject='01',\n",
    "                              session='01',\n",
    "                              task='audiovisual',\n",
    "                              run='01',\n",
    "                              datatype='meg',\n",
    "                              root=bids_root)\n",
    "\n",
    "raw = mne_bids.read_raw_bids(bids_path)"
   ]
  },
  {
   "cell_type": "code",
   "execution_count": 33,
   "metadata": {},
   "outputs": [
    {
     "name": "stdout",
     "output_type": "stream",
     "text": [
      "Using matplotlib as 2D backend.\n"
     ]
    },
    {
     "data": {
      "text/plain": [
       "<MNEBrowseFigure size 2560x1351 with 5 Axes>"
      ]
     },
     "execution_count": 33,
     "metadata": {},
     "output_type": "execute_result"
    },
    {
     "name": "stdout",
     "output_type": "stream",
     "text": [
      "Channels marked as bad:\n",
      "['MEG 2443', 'EEG 053']\n"
     ]
    }
   ],
   "source": [
    "raw.plot()"
   ]
  },
  {
   "cell_type": "markdown",
   "metadata": {},
   "source": [
    "## 事件被存储为标注，二者可以相互转换"
   ]
  },
  {
   "cell_type": "code",
   "execution_count": 34,
   "metadata": {},
   "outputs": [
    {
     "data": {
      "text/plain": [
       "OrderedDict([('onset', 46.58058882905339),\n",
       "             ('duration', 0.0),\n",
       "             ('description', 'Auditory/Right'),\n",
       "             ('orig_time',\n",
       "              datetime.datetime(2002, 12, 3, 19, 1, 10, 720100, tzinfo=datetime.timezone.utc))])"
      ]
     },
     "execution_count": 34,
     "metadata": {},
     "output_type": "execute_result"
    }
   ],
   "source": [
    "raw.annotations[0]"
   ]
  },
  {
   "cell_type": "code",
   "execution_count": 35,
   "metadata": {},
   "outputs": [
    {
     "name": "stdout",
     "output_type": "stream",
     "text": [
      "Used Annotations descriptions: ['Auditory/Left', 'Auditory/Right', 'Button', 'Smiley', 'Visual/Left', 'Visual/Right']\n"
     ]
    }
   ],
   "source": [
    "events, event_id = mne.events_from_annotations(raw)"
   ]
  },
  {
   "cell_type": "code",
   "execution_count": 37,
   "metadata": {},
   "outputs": [
    {
     "data": {
      "text/plain": [
       "<Figure size 2560x1448 with 1 Axes>"
      ]
     },
     "execution_count": 37,
     "metadata": {},
     "output_type": "execute_result"
    }
   ],
   "source": [
    "# 画出每个事件在时间上的分布\n",
    "mne.viz.plot_events(events, event_id=event_id, sfreq=raw.info['sfreq'])"
   ]
  },
  {
   "cell_type": "markdown",
   "metadata": {},
   "source": [
    "## 微调MEG精细校准和串扰文件"
   ]
  },
  {
   "cell_type": "code",
   "execution_count": 38,
   "metadata": {},
   "outputs": [
    {
     "data": {
      "text/plain": [
       "WindowsPath('F:/Database/Multimodal_data/mne_data/MNE-sample-data/out_data/sample_BIDS/sub-01/ses-01/meg/sub-01_ses-01_acq-calibration_meg.dat')"
      ]
     },
     "execution_count": 38,
     "metadata": {},
     "output_type": "execute_result"
    }
   ],
   "source": [
    "bids_path.meg_calibration_fpath"
   ]
  },
  {
   "cell_type": "code",
   "execution_count": 39,
   "metadata": {},
   "outputs": [
    {
     "data": {
      "text/plain": [
       "WindowsPath('F:/Database/Multimodal_data/mne_data/MNE-sample-data/out_data/sample_BIDS/sub-01/ses-01/meg/sub-01_ses-01_acq-crosstalk_meg.fif')"
      ]
     },
     "execution_count": 39,
     "metadata": {},
     "output_type": "execute_result"
    }
   ],
   "source": [
    "bids_path.meg_crosstalk_fpath"
   ]
  }
 ],
 "metadata": {
  "kernelspec": {
   "display_name": "MF",
   "language": "python",
   "name": "python3"
  },
  "language_info": {
   "codemirror_mode": {
    "name": "ipython",
    "version": 3
   },
   "file_extension": ".py",
   "mimetype": "text/x-python",
   "name": "python",
   "nbconvert_exporter": "python",
   "pygments_lexer": "ipython3",
   "version": "3.8.20"
  }
 },
 "nbformat": 4,
 "nbformat_minor": 2
}
